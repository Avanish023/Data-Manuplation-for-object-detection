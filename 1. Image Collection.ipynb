{
 "cells": [
  {
   "cell_type": "markdown",
   "metadata": {},
   "source": [
    "# 1. Import Dependencies"
   ]
  },
  {
   "cell_type": "code",
   "execution_count": 1,
   "metadata": {},
   "outputs": [
    {
     "name": "stdout",
     "output_type": "stream",
     "text": [
      "Requirement already satisfied: opencv-python in c:\\users\\a n singh\\desktop\\tfod\\tfod\\lib\\site-packages (4.5.5.62)\n",
      "Requirement already satisfied: numpy>=1.17.3 in c:\\users\\a n singh\\desktop\\tfod\\tfod\\lib\\site-packages (from opencv-python) (1.22.1)\n"
     ]
    }
   ],
   "source": [
    "!pip install opencv-python"
   ]
  },
  {
   "cell_type": "code",
   "execution_count": 2,
   "metadata": {},
   "outputs": [],
   "source": [
    "# Import opencv\n",
    "import cv2 \n",
    "\n",
    "# Import uuid\n",
    "import uuid\n",
    "\n",
    "# Import Operating System\n",
    "import os\n",
    "\n",
    "# Import time\n",
    "import time"
   ]
  },
  {
   "cell_type": "markdown",
   "metadata": {},
   "source": [
    "# 2. Define Images to Collect"
   ]
  },
  {
   "cell_type": "code",
   "execution_count": 10,
   "metadata": {},
   "outputs": [],
   "source": [
    "labels = ['mobile','glass', 'spects', ]\n",
    "number_imgs = 5"
   ]
  },
  {
   "cell_type": "markdown",
   "metadata": {},
   "source": [
    "# 3. Setup Folders "
   ]
  },
  {
   "cell_type": "code",
   "execution_count": 11,
   "metadata": {},
   "outputs": [],
   "source": [
    "IMAGES_PATH = os.path.join('Tensorflow', 'workspace', 'images', 'collectedimages')"
   ]
  },
  {
   "cell_type": "code",
   "execution_count": 12,
   "metadata": {},
   "outputs": [],
   "source": [
    "if not os.path.exists(IMAGES_PATH):\n",
    "    if os.name == 'posix':\n",
    "        !mkdir -p {IMAGES_PATH}\n",
    "    if os.name == 'nt':\n",
    "         !mkdir {IMAGES_PATH}\n",
    "for label in labels:\n",
    "    path = os.path.join(IMAGES_PATH, label)\n",
    "    if not os.path.exists(path):\n",
    "        !mkdir {path}"
   ]
  },
  {
   "cell_type": "markdown",
   "metadata": {},
   "source": [
    "# 4. Capture Images"
   ]
  },
  {
   "cell_type": "code",
   "execution_count": 13,
   "metadata": {},
   "outputs": [
    {
     "name": "stdout",
     "output_type": "stream",
     "text": [
      "Collecting images for mobile\n",
      "Collecting image 0\n",
      "Collecting image 1\n",
      "Collecting image 2\n",
      "Collecting image 3\n",
      "Collecting image 4\n",
      "Collecting images for glass\n",
      "Collecting image 0\n",
      "Collecting image 1\n",
      "Collecting image 2\n",
      "Collecting image 3\n",
      "Collecting image 4\n",
      "Collecting images for spects\n",
      "Collecting image 0\n",
      "Collecting image 1\n",
      "Collecting image 2\n",
      "Collecting image 3\n",
      "Collecting image 4\n"
     ]
    }
   ],
   "source": [
    "for label in labels:\n",
    "    cap = cv2.VideoCapture(0)\n",
    "    print('Collecting images for {}'.format(label))\n",
    "    time.sleep(5)\n",
    "    for imgnum in range(number_imgs):\n",
    "        print('Collecting image {}'.format(imgnum))\n",
    "        ret, frame = cap.read()\n",
    "        imgname = os.path.join(IMAGES_PATH,label,label+'.'+'{}.jpg'.format(str(uuid.uuid1())))\n",
    "        cv2.imwrite(imgname, frame)\n",
    "        cv2.imshow('frame', frame)\n",
    "        time.sleep(2)\n",
    "\n",
    "        if cv2.waitKey(1) & 0xFF == ord('q'):\n",
    "            break\n",
    "cap.release()\n",
    "cv2.destroyAllWindows()"
   ]
  },
  {
   "cell_type": "markdown",
   "metadata": {},
   "source": [
    "# 5. Image Labelling"
   ]
  },
  {
   "cell_type": "code",
   "execution_count": 17,
   "metadata": {},
   "outputs": [
    {
     "name": "stdout",
     "output_type": "stream",
     "text": [
      "Collecting pyqt5\n",
      "  Using cached PyQt5-5.15.6-cp36-abi3-win_amd64.whl (6.7 MB)\n",
      "Collecting lxml\n",
      "  Using cached lxml-4.7.1-cp38-cp38-win_amd64.whl (3.7 MB)\n",
      "Collecting PyQt5-Qt5>=5.15.2\n",
      "  Downloading PyQt5_Qt5-5.15.2-py3-none-win_amd64.whl (50.1 MB)\n",
      "Collecting PyQt5-sip<13,>=12.8\n",
      "  Using cached PyQt5_sip-12.9.0-cp38-cp38-win_amd64.whl (63 kB)\n",
      "Installing collected packages: PyQt5-sip, PyQt5-Qt5, pyqt5, lxml\n",
      "Successfully installed PyQt5-Qt5-5.15.2 PyQt5-sip-12.9.0 lxml-4.7.1 pyqt5-5.15.6\n"
     ]
    }
   ],
   "source": [
    "!pip install --upgrade pyqt5 lxml"
   ]
  },
  {
   "cell_type": "code",
   "execution_count": 18,
   "metadata": {},
   "outputs": [],
   "source": [
    "LABELIMG_PATH = os.path.join('Tensorflow', 'labelimg')"
   ]
  },
  {
   "cell_type": "code",
   "execution_count": 19,
   "metadata": {},
   "outputs": [
    {
     "name": "stderr",
     "output_type": "stream",
     "text": [
      "'git' is not recognized as an internal or external command,\n",
      "operable program or batch file.\n"
     ]
    }
   ],
   "source": [
    "if not os.path.exists(LABELIMG_PATH):\n",
    "    !mkdir {LABELIMG_PATH}\n",
    "    !git clone https://github.com/tzutalin/labelImg {LABELIMG_PATH}"
   ]
  },
  {
   "cell_type": "code",
   "execution_count": 22,
   "metadata": {},
   "outputs": [],
   "source": [
    "if os.name == 'posix':\n",
    "    !make qt5py3\n",
    "if os.name =='nt':\n",
    "    !cd {LABELIMG_PATH} && pyrcc5 -o libs/resources.py resources.qrc"
   ]
  },
  {
   "cell_type": "code",
   "execution_count": 21,
   "metadata": {},
   "outputs": [
    {
     "data": {
      "text/plain": [
       "'Tensorflow\\\\labelimg'"
      ]
     },
     "execution_count": 21,
     "metadata": {},
     "output_type": "execute_result"
    }
   ],
   "source": [
    "LABELIMG_PATH"
   ]
  },
  {
   "cell_type": "code",
   "execution_count": 23,
   "metadata": {},
   "outputs": [
    {
     "name": "stdout",
     "output_type": "stream",
     "text": [
      "Cancel creation.\n",
      "Image:C:\\Users\\A N Singh\\Desktop\\TFOD\\TFODCourse-main\\Tensorflow\\workspace\\images\\collectedimages\\mobile\\mobile.5f7bebd8-7ea0-11ec-a61d-e89eb41ac188.jpg -> Annotation:C:/Users/A N Singh/Desktop/TFOD/TFODCourse-main/Tensorflow/workspace/images/collectedimages/mobile/mobile.5f7bebd8-7ea0-11ec-a61d-e89eb41ac188.xml\n",
      "Image:C:\\Users\\A N Singh\\Desktop\\TFOD\\TFODCourse-main\\Tensorflow\\workspace\\images\\collectedimages\\mobile\\mobile.5e478337-7ea0-11ec-84a1-e89eb41ac188.jpg -> Annotation:C:/Users/A N Singh/Desktop/TFOD/TFODCourse-main/Tensorflow/workspace/images/collectedimages/mobile/mobile.5e478337-7ea0-11ec-84a1-e89eb41ac188.xml\n",
      "Image:C:\\Users\\A N Singh\\Desktop\\TFOD\\TFODCourse-main\\Tensorflow\\workspace\\images\\collectedimages\\mobile\\mobile.5d11cc8b-7ea0-11ec-b7a2-e89eb41ac188.jpg -> Annotation:C:/Users/A N Singh/Desktop/TFOD/TFODCourse-main/Tensorflow/workspace/images/collectedimages/mobile/mobile.5d11cc8b-7ea0-11ec-b7a2-e89eb41ac188.xml\n",
      "Image:C:\\Users\\A N Singh\\Desktop\\TFOD\\TFODCourse-main\\Tensorflow\\workspace\\images\\collectedimages\\mobile\\mobile.5bddac81-7ea0-11ec-9ca2-e89eb41ac188.jpg -> Annotation:C:/Users/A N Singh/Desktop/TFOD/TFODCourse-main/Tensorflow/workspace/images/collectedimages/mobile/mobile.5bddac81-7ea0-11ec-9ca2-e89eb41ac188.xml\n",
      "Cancel creation.\n",
      "Image:C:\\Users\\A N Singh\\Desktop\\TFOD\\TFODCourse-main\\Tensorflow\\workspace\\images\\collectedimages\\mobile\\mobile.5aa74bc6-7ea0-11ec-a85b-e89eb41ac188.jpg -> Annotation:C:/Users/A N Singh/Desktop/TFOD/TFODCourse-main/Tensorflow/workspace/images/collectedimages/mobile/mobile.5aa74bc6-7ea0-11ec-a85b-e89eb41ac188.xml\n",
      "Cancel creation.\n",
      "Cancel creation.\n",
      "Image:C:\\Users\\A N Singh\\Desktop\\TFOD\\TFODCourse-main\\Tensorflow\\workspace\\images\\collectedimages\\glass\\glass.66cf5211-7ea0-11ec-83ba-e89eb41ac188.jpg -> Annotation:C:/Users/A N Singh/Desktop/TFOD/TFODCourse-main/Tensorflow/workspace/images/collectedimages/glass/glass.66cf5211-7ea0-11ec-83ba-e89eb41ac188.xml\n",
      "Cancel creation.\n",
      "Image:C:\\Users\\A N Singh\\Desktop\\TFOD\\TFODCourse-main\\Tensorflow\\workspace\\images\\collectedimages\\glass\\glass.659b409b-7ea0-11ec-ade1-e89eb41ac188.jpg -> Annotation:C:/Users/A N Singh/Desktop/TFOD/TFODCourse-main/Tensorflow/workspace/images/collectedimages/glass/glass.659b409b-7ea0-11ec-ade1-e89eb41ac188.xml\n",
      "Cancel creation.\n",
      "Image:C:\\Users\\A N Singh\\Desktop\\TFOD\\TFODCourse-main\\Tensorflow\\workspace\\images\\collectedimages\\glass\\glass.680308b0-7ea0-11ec-a350-e89eb41ac188.jpg -> Annotation:C:/Users/A N Singh/Desktop/TFOD/TFODCourse-main/Tensorflow/workspace/images/collectedimages/glass/glass.680308b0-7ea0-11ec-a350-e89eb41ac188.xml\n",
      "Image:C:\\Users\\A N Singh\\Desktop\\TFOD\\TFODCourse-main\\Tensorflow\\workspace\\images\\collectedimages\\glass\\glass.64675060-7ea0-11ec-a7aa-e89eb41ac188.jpg -> Annotation:C:/Users/A N Singh/Desktop/TFOD/TFODCourse-main/Tensorflow/workspace/images/collectedimages/glass/glass.64675060-7ea0-11ec-a7aa-e89eb41ac188.xml\n",
      "Cancel creation.\n",
      "Cancel creation.\n",
      "Image:C:\\Users\\A N Singh\\Desktop\\TFOD\\TFODCourse-main\\Tensorflow\\workspace\\images\\collectedimages\\glass\\glass.69375275-7ea0-11ec-94a8-e89eb41ac188.jpg -> Annotation:C:/Users/A N Singh/Desktop/TFOD/TFODCourse-main/Tensorflow/workspace/images/collectedimages/glass/glass.69375275-7ea0-11ec-94a8-e89eb41ac188.xml\n",
      "Image:C:\\Users\\A N Singh\\Desktop\\TFOD\\TFODCourse-main\\Tensorflow\\workspace\\images\\collectedimages\\spects\\spects.6e1ffbf8-7ea0-11ec-8b39-e89eb41ac188.jpg -> Annotation:C:/Users/A N Singh/Desktop/TFOD/TFODCourse-main/Tensorflow/workspace/images/collectedimages/spects/spects.6e1ffbf8-7ea0-11ec-8b39-e89eb41ac188.xml\n",
      "Cancel creation.\n",
      "Cancel creation.\n",
      "Image:C:\\Users\\A N Singh\\Desktop\\TFOD\\TFODCourse-main\\Tensorflow\\workspace\\images\\collectedimages\\spects\\spects.6e1ffbf8-7ea0-11ec-8b39-e89eb41ac188.jpg -> Annotation:C:/Users/A N Singh/Desktop/TFOD/TFODCourse-main/Tensorflow/workspace/images/collectedimages/spects/spects.6e1ffbf8-7ea0-11ec-8b39-e89eb41ac188.xml\n",
      "Image:C:\\Users\\A N Singh\\Desktop\\TFOD\\TFODCourse-main\\Tensorflow\\workspace\\images\\collectedimages\\spects\\spects.6f54fef5-7ea0-11ec-a880-e89eb41ac188.jpg -> Annotation:C:/Users/A N Singh/Desktop/TFOD/TFODCourse-main/Tensorflow/workspace/images/collectedimages/spects/spects.6f54fef5-7ea0-11ec-a880-e89eb41ac188.xml\n",
      "Image:C:\\Users\\A N Singh\\Desktop\\TFOD\\TFODCourse-main\\Tensorflow\\workspace\\images\\collectedimages\\spects\\spects.72f1f5f7-7ea0-11ec-9e10-e89eb41ac188.jpg -> Annotation:C:/Users/A N Singh/Desktop/TFOD/TFODCourse-main/Tensorflow/workspace/images/collectedimages/spects/spects.72f1f5f7-7ea0-11ec-9e10-e89eb41ac188.xml\n",
      "Image:C:\\Users\\A N Singh\\Desktop\\TFOD\\TFODCourse-main\\Tensorflow\\workspace\\images\\collectedimages\\spects\\spects.71bd1d35-7ea0-11ec-aeac-e89eb41ac188.jpg -> Annotation:C:/Users/A N Singh/Desktop/TFOD/TFODCourse-main/Tensorflow/workspace/images/collectedimages/spects/spects.71bd1d35-7ea0-11ec-aeac-e89eb41ac188.xml\n",
      "Cancel creation.\n",
      "Image:C:\\Users\\A N Singh\\Desktop\\TFOD\\TFODCourse-main\\Tensorflow\\workspace\\images\\collectedimages\\spects\\spects.70892aed-7ea0-11ec-8f78-e89eb41ac188.jpg -> Annotation:C:/Users/A N Singh/Desktop/TFOD/TFODCourse-main/Tensorflow/workspace/images/collectedimages/spects/spects.70892aed-7ea0-11ec-8f78-e89eb41ac188.xml\n"
     ]
    }
   ],
   "source": [
    "!cd {LABELIMG_PATH} && python labelImg.py"
   ]
  },
  {
   "cell_type": "markdown",
   "metadata": {},
   "source": [
    "# 6. Move them into a Training and Testing Partition"
   ]
  },
  {
   "cell_type": "markdown",
   "metadata": {},
   "source": [
    "# OPTIONAL - 7. Compress them for Colab Training"
   ]
  },
  {
   "cell_type": "code",
   "execution_count": 24,
   "metadata": {},
   "outputs": [],
   "source": [
    "TRAIN_PATH = os.path.join('Tensorflow', 'workspace', 'images', 'train')\n",
    "TEST_PATH = os.path.join('Tensorflow', 'workspace', 'images', 'test')\n",
    "ARCHIVE_PATH = os.path.join('Tensorflow', 'workspace', 'images', 'archive.tar.gz')"
   ]
  },
  {
   "cell_type": "code",
   "execution_count": 25,
   "metadata": {},
   "outputs": [
    {
     "name": "stderr",
     "output_type": "stream",
     "text": [
      "'tar' is not recognized as an internal or external command,\n",
      "operable program or batch file.\n"
     ]
    }
   ],
   "source": [
    "!tar -czf {ARCHIVE_PATH} {TRAIN_PATH} {TEST_PATH}"
   ]
  },
  {
   "cell_type": "code",
   "execution_count": null,
   "metadata": {},
   "outputs": [],
   "source": []
  }
 ],
 "metadata": {
  "kernelspec": {
   "display_name": "tfod",
   "language": "python",
   "name": "tfod"
  },
  "language_info": {
   "codemirror_mode": {
    "name": "ipython",
    "version": 3
   },
   "file_extension": ".py",
   "mimetype": "text/x-python",
   "name": "python",
   "nbconvert_exporter": "python",
   "pygments_lexer": "ipython3",
   "version": "3.8.5"
  }
 },
 "nbformat": 4,
 "nbformat_minor": 2
}
